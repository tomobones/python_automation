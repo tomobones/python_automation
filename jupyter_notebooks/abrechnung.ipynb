{
 "cells": [
  {
   "cell_type": "code",
   "execution_count": 5,
   "id": "impaired-fitness",
   "metadata": {},
   "outputs": [
    {
     "name": "stdout",
     "output_type": "stream",
     "text": [
      "hello\n"
     ]
    }
   ],
   "source": [
    "print(\"hello\")"
   ]
  },
  {
   "cell_type": "code",
   "execution_count": 7,
   "id": "completed-specialist",
   "metadata": {},
   "outputs": [
    {
     "name": "stdout",
     "output_type": "stream",
     "text": [
      "['charles', 'bobby', 'kurt', 'max', 'kitty']\n"
     ]
    }
   ],
   "source": [
    "mutants = ['charles', 'bobby', 'kurt', 'max', 'kitty']\n",
    "print(mutants)"
   ]
  },
  {
   "cell_type": "code",
   "execution_count": 16,
   "id": "younger-customer",
   "metadata": {},
   "outputs": [
    {
     "name": "stdout",
     "output_type": "stream",
     "text": [
      "(0, 'charles') (1, 'bobby') (2, 'kurt') (3, 'max') (4, 'kitty')\n"
     ]
    }
   ],
   "source": [
    "print(*enumerate(mutants))"
   ]
  },
  {
   "cell_type": "code",
   "execution_count": 14,
   "id": "vocal-service",
   "metadata": {},
   "outputs": [
    {
     "name": "stdout",
     "output_type": "stream",
     "text": [
      "(1, 'auto') (2, 'fahrrad') (3, 'essen') (4, 'bank')\n"
     ]
    }
   ],
   "source": [
    "betraege = [1, 2, 3, 4]\n",
    "namen = ['auto', 'fahrrad', 'essen', 'bank']\n",
    "ausgaben = zip(betraege, namen)\n",
    "print(*ausgaben)"
   ]
  },
  {
   "cell_type": "code",
   "execution_count": null,
   "id": "breeding-signal",
   "metadata": {},
   "outputs": [],
   "source": []
  }
 ],
 "metadata": {
  "kernelspec": {
   "display_name": "Python 3",
   "language": "python",
   "name": "python3"
  },
  "language_info": {
   "codemirror_mode": {
    "name": "ipython",
    "version": 3
   },
   "file_extension": ".py",
   "mimetype": "text/x-python",
   "name": "python",
   "nbconvert_exporter": "python",
   "pygments_lexer": "ipython3",
   "version": "3.9.2"
  }
 },
 "nbformat": 4,
 "nbformat_minor": 5
}
